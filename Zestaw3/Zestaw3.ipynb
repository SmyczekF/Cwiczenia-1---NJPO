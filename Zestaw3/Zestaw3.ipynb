{
 "cells": [
  {
   "cell_type": "markdown",
   "metadata": {
    "collapsed": true,
    "pycharm": {
     "name": "#%% md\n"
    }
   },
   "source": [
    "Zadanie 1.\n",
    "\n",
    "Zaprojektuj klasę dla $kd$-drzewa."
   ]
  },
  {
   "cell_type": "code",
   "source": [
    "import math\n",
    "# przy wykonaniu tego zadania korzystam z biblioteki pandas (również, ponieważ trochę ją poznałem),\n",
    "# ponieważ dostarcza pewne ułatwiające funkcjonalności, jak:\n",
    "# DataFrames - bardzo wygodny pojemnik na dane, funkcja '.iloc' i '.sort_values'.\n",
    "\n",
    "import pandas as pd\n",
    "from binarytree import tree, Node\n",
    "\n",
    "class kd_Tree:\n",
    "\n",
    "    def __init__(self, data):\n",
    "        self.data = data\n",
    "        self.tree = None\n",
    "\n",
    "    def _build(self, points, depth):\n",
    "\n",
    "        # wyliczamy wymiar k (zakładamy, że dane otrzymujemy jako dataframe) - pandas\n",
    "        k = len(points.columns)\n",
    "\n",
    "        # ustalamy wybór kolumny (ma będą wybierane po kolei z indeksami [0], [1], [0] , [1] itd.)\n",
    "        _axis = depth % k\n",
    "\n",
    "        # wybieramy kolumnę\n",
    "        _column = points.columns[_axis]\n",
    "        if len(points) == 0:\n",
    "            return None\n",
    "\n",
    "        # sortyjemy DataFrame rosnąco, aby obliczyć medianę\n",
    "        objects_list = points.sort_values(by= [_column], ascending= True)\n",
    "\n",
    "        # obliczamy medianę\n",
    "        median_idx = int((len(objects_list)//2))\n",
    "\n",
    "        node = Node(int(round(objects_list.iloc[median_idx][_column],3)))\n",
    "        node.left = self._build(objects_list.iloc[0:median_idx], depth+1)\n",
    "        node.right = self._build(objects_list.iloc[median_idx+1:], depth+1)\n",
    "        return node\n",
    "\n",
    "    def build(self):\n",
    "        self.tree = self._build(self.data, depth= 0)\n",
    "\n",
    "test_df = pd.DataFrame(data= [[2,3],[5,4],[9,6],[4,7],[8,1],[7,2],[6,1],[10,2],[11,10],[12,5]], columns= ['X', 'Y'])\n",
    "\n",
    "kd = kd_Tree(test_df)\n",
    "kd.build()\n",
    "print(kd.tree)\n",
    "\n",
    "# Wybrałem sposób tworzenia drzewa przy użyciu Node (binarytree), więc w węzłach muszą znajdywać się pojedyńcze liczby,\n",
    "# Zbiór danych, jednak pozwala jednoznacznie stwierdzić jak wygląda podział, drzewo można by było równoważnie zapisać z\n",
    "# tuple'ami w węzłach, lecz sposób podany przeze mnie, jest również dopuszczony. Trzeba pamiętać, że (od góry) wartości\n",
    "# występują w kolejności: wartość z kolumny X, Y, X, Y ... Więc na samej górze jest [8,1] , później [2,3] i [9,6] itd."
   ],
   "metadata": {
    "collapsed": false,
    "pycharm": {
     "name": "#%%\n"
    }
   },
   "execution_count": 40,
   "outputs": [
    {
     "name": "stdout",
     "output_type": "stream",
     "text": [
      "\n",
      "      ____8_____\n",
      "     /          \\\n",
      "    3__         _6\n",
      "   /   \\       /  \\\n",
      "  7     5     12   11\n",
      " /     /     /\n",
      "1     7     2\n",
      "\n"
     ]
    }
   ]
  },
  {
   "cell_type": "markdown",
   "source": [
    "Zadanie 2.\n",
    "\n",
    "Zaimplementuj wzorzec projektowy łańcuch odpowiedzialności na przykładzie obsługi żądania _http_ (symulacja),\n",
    "w którym przed faktycznym kodem obsługi błędu ma zostać sprawdzone:\n",
    "- czy użytkownik może wysłać danego typu żądania\n",
    "- czy żądanie nie dotyczy pliku\n",
    "- czy liczba żądań na minutę nie jest przekroczona\n",
    "- czy liczba żądań na minutę nie jest przekroczona dla zalogowanego użytkownika\n",
    "- czy przesłany formularz nie jest próbą `sql incjection`"
   ],
   "metadata": {
    "collapsed": false,
    "pycharm": {
     "name": "#%% md\n"
    }
   }
  },
  {
   "cell_type": "code",
   "execution_count": 22,
   "outputs": [
    {
     "name": "stdout",
     "output_type": "stream",
     "text": [
      "; select true; --\n"
     ]
    }
   ],
   "source": [
    "#Regex for detection SQL: \"\\'|\\\"|\\(|\\[|\\*|=| |\\\\|/|;|-\"i\n",
    "\n",
    "from datetime import datetime\n",
    "import time\n",
    "\n",
    "class httpSimRequest:\n",
    "    def __init__(self, Type: str, File: str, Role: str, IsLogged: bool):\n",
    "        self.httpReq = {\n",
    "            'Type': Type,\n",
    "            'File': File,\n",
    "            'Minute': datetime.now().strftime('%M'),\n",
    "            'Role': Role,\n",
    "            'IsLogged': IsLogged,\n",
    "            'Parameters': {\n",
    "                'Username': 'John123',\n",
    "                'Password': \"; select true; --\"  # Przykład SQL injection - nasze rozwiązanie powinno odrzucić takie dane\n",
    "            }\n",
    "             }\n",
    "\n",
    "request = httpSimRequest('GET', 'FILE', 'ADMIN', True)\n",
    "print(request.httpReq['Parameters']['Password'])"
   ],
   "metadata": {
    "collapsed": false,
    "pycharm": {
     "name": "#%%\n"
    }
   }
  },
  {
   "cell_type": "code",
   "execution_count": 7,
   "outputs": [
    {
     "name": "stdout",
     "output_type": "stream",
     "text": [
      "Chain: Monkey > Squirrel > Dog\n",
      "\n",
      "Client: Who wants a Nut?\n",
      "  Squirrel: I'll eat the Nut\n",
      "Client: Who wants a Banana?\n",
      "  Monkey: I'll eat the Banana\n",
      "Client: Who wants a Cup of coffee?\n",
      "  Cup of coffee was left untouched.\n",
      "\n",
      "Subchain: Squirrel > Dog\n",
      "\n",
      "Client: Who wants a Nut?\n",
      "  Squirrel: I'll eat the Nut\n",
      "Client: Who wants a Banana?\n",
      "  Banana was left untouched.\n",
      "Client: Who wants a Cup of coffee?\n",
      "  Cup of coffee was left untouched."
     ]
    }
   ],
   "source": [
    "from __future__ import annotations\n",
    "from abc import ABC, abstractmethod\n",
    "from typing import Any, Optional\n",
    "# from datetime import datetime\n",
    "#\n",
    "# class httpSimRequest:\n",
    "#     def __init__(self, Type, File):\n",
    "#         self.httpReq = {\n",
    "#             'Type': Type,\n",
    "#             'File': File,\n",
    "#             'Date': datetime.now().strftime(\"%d/%m/%Y %H:%M:%S\")\n",
    "#\n",
    "#         }\n",
    "\n",
    "\n",
    "class Handler(ABC):\n",
    "\n",
    "    @abstractmethod\n",
    "    def set_next(self, handler: Handler) -> Handler:\n",
    "        pass\n",
    "\n",
    "    @abstractmethod\n",
    "    def handle(self, request) -> Optional[str]:\n",
    "        pass\n",
    "\n",
    "\n",
    "class AbstractHandler(Handler):\n",
    "\n",
    "    _next_handler: Handler = None\n",
    "\n",
    "    def set_next(self, handler: Handler) -> Handler:\n",
    "        self._next_handler = handler\n",
    "        return handler\n",
    "\n",
    "    @abstractmethod\n",
    "    def handle(self, request: Any) -> str:\n",
    "        if self._next_handler:\n",
    "            return self._next_handler.handle(request)\n",
    "\n",
    "        return None\n",
    "\n",
    "class TypeHandler(AbstractHandler):\n",
    "    def handle(self, request: Any) -> str:\n",
    "        if request == \"Banana\":\n",
    "            return f\"Monkey: I'll eat the {request}\"\n",
    "        else:\n",
    "            return super().handle(request)\n",
    "\n",
    "\n",
    "class FileHandler(AbstractHandler):\n",
    "    def handle(self, request: Any) -> str:\n",
    "        if request == \"Nut\":\n",
    "            return f\"Squirrel: I'll eat the {request}\"\n",
    "        else:\n",
    "            return super().handle(request)\n",
    "\n",
    "\n",
    "class RequestsPerMinuteHandler(AbstractHandler):\n",
    "    def handle(self, request: Any) -> str:\n",
    "        if request == \"MeatBall\":\n",
    "            return f\"Dog: I'll eat the {request}\"\n",
    "        else:\n",
    "            return super().handle(request)\n",
    "\n",
    "class SqlInjectionHandler(AbstractHandler):\n",
    "    def handle(self, request: Any) -> str:\n",
    "\n",
    "\n",
    "def client_code(handler: Handler) -> None:\n",
    "\n",
    "    for food in [\"Nut\", \"Banana\", \"Cup of coffee\"]:\n",
    "        print(f\"\\nClient: Who wants a {food}?\")\n",
    "        result = handler.handle(food)\n",
    "        if result:\n",
    "            print(f\"  {result}\", end=\"\")\n",
    "        else:\n",
    "            print(f\"  {food} was left untouched.\", end=\"\")\n",
    "\n",
    "monkey = MonkeyHandler()\n",
    "squirrel = SquirrelHandler()\n",
    "dog = DogHandler()\n",
    "\n",
    "monkey.set_next(squirrel).set_next(dog)\n",
    "\n",
    "# The client should be able to send a request to any handler, not just the\n",
    "# first one in the chain.\n",
    "print(\"Chain: Monkey > Squirrel > Dog\")\n",
    "client_code(monkey)\n",
    "print(\"\\n\")\n",
    "\n",
    "print(\"Subchain: Squirrel > Dog\")\n",
    "client_code(squirrel)"
   ],
   "metadata": {
    "collapsed": false,
    "pycharm": {
     "name": "#%%\n"
    }
   }
  },
  {
   "cell_type": "markdown",
   "source": [
    "Zadanie 3.\n",
    "\n",
    "Za pomocą dowolnego wzorca projektowego zaimplementuj mechanizm sprawdzający poprawność wyrażenia postaci:\n",
    "* a + b = c (poprawne),\n",
    "* (a + b = c (niepoprawne),\n",
    "* a + = c (niepoprawne)."
   ],
   "metadata": {
    "collapsed": false
   }
  },
  {
   "cell_type": "code",
   "execution_count": null,
   "outputs": [],
   "source": [],
   "metadata": {
    "collapsed": false,
    "pycharm": {
     "name": "#%%\n"
    }
   }
  }
 ],
 "metadata": {
  "kernelspec": {
   "display_name": "Python 3",
   "language": "python",
   "name": "python3"
  },
  "language_info": {
   "codemirror_mode": {
    "name": "ipython",
    "version": 2
   },
   "file_extension": ".py",
   "mimetype": "text/x-python",
   "name": "python",
   "nbconvert_exporter": "python",
   "pygments_lexer": "ipython2",
   "version": "2.7.6"
  }
 },
 "nbformat": 4,
 "nbformat_minor": 0
}