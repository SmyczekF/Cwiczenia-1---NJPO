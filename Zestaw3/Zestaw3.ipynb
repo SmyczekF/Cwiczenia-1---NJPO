{
 "cells": [
  {
   "cell_type": "markdown",
   "metadata": {
    "collapsed": true,
    "pycharm": {
     "name": "#%% md\n"
    }
   },
   "source": [
    "Zadanie 1.\n",
    "\n",
    "Zaprojektuj klasę dla $kd$-drzewa."
   ]
  },
  {
   "cell_type": "code",
   "source": [
    "import math\n",
    "# przy wykonaniu tego zadania korzystam z biblioteki pandas (również, ponieważ trochę ją poznałem),\n",
    "# ponieważ dostarcza pewne ułatwiające funkcjonalności, jak:\n",
    "# DataFrames - bardzo wygodny pojemnik na dane, funkcja '.iloc' i '.sort_values'.\n",
    "\n",
    "import pandas as pd\n",
    "from binarytree import tree, Node\n",
    "\n",
    "class kd_Tree:\n",
    "\n",
    "    def __init__(self, data):\n",
    "        self.data = data\n",
    "        self.tree = None\n",
    "\n",
    "    def _build(self, points, depth):\n",
    "\n",
    "        # wyliczamy wymiar k (zakładamy, że dane otrzymujemy jako dataframe) - pandas\n",
    "        k = len(points.columns)\n",
    "\n",
    "        # ustalamy wybór kolumny (ma będą wybierane po kolei z indeksami [0], [1], [0] , [1] itd.)\n",
    "        _axis = depth % k\n",
    "\n",
    "        # wybieramy kolumnę\n",
    "        _column = points.columns[_axis]\n",
    "        if len(points) == 0:\n",
    "            return None\n",
    "\n",
    "        # sortyjemy DataFrame rosnąco, aby obliczyć medianę\n",
    "        objects_list = points.sort_values(by= [_column], ascending= True)\n",
    "\n",
    "        # obliczamy medianę\n",
    "        median_idx = int((len(objects_list)//2))\n",
    "\n",
    "        node = Node(int(round(objects_list.iloc[median_idx][_column],3)))\n",
    "        node.left = self._build(objects_list.iloc[0:median_idx], depth+1)\n",
    "        node.right = self._build(objects_list.iloc[median_idx+1:], depth+1)\n",
    "        return node\n",
    "\n",
    "    def build(self):\n",
    "        self.tree = self._build(self.data, depth= 0)\n",
    "\n",
    "test_df = pd.DataFrame(data= [[2,3],[5,4],[9,6],[4,7],[8,1],[7,2],[6,1],[10,2],[11,10],[12,5]], columns= ['X', 'Y'])\n",
    "\n",
    "kd = kd_Tree(test_df)\n",
    "kd.build()\n",
    "print(kd.tree)\n",
    "\n",
    "# Wybrałem sposób tworzenia drzewa przy użyciu Node (binarytree), więc w węzłach muszą znajdywać się pojedyńcze liczby,\n",
    "# Zbiór danych, jednak pozwala jednoznacznie stwierdzić jak wygląda podział, drzewo można by było równoważnie zapisać z\n",
    "# tuple'ami w węzłach, lecz sposób podany przeze mnie, jest również dopuszczony. Trzeba pamiętać, że (od góry) wartości\n",
    "# występują w kolejności: wartość z kolumny X, Y, X, Y ... Więc na samej górze jest [8,1] , później [2,3] i [9,6] itd."
   ],
   "metadata": {
    "collapsed": false,
    "pycharm": {
     "name": "#%%\n"
    }
   },
   "execution_count": 40,
   "outputs": [
    {
     "name": "stdout",
     "output_type": "stream",
     "text": [
      "\n",
      "      ____8_____\n",
      "     /          \\\n",
      "    3__         _6\n",
      "   /   \\       /  \\\n",
      "  7     5     12   11\n",
      " /     /     /\n",
      "1     7     2\n",
      "\n"
     ]
    }
   ]
  },
  {
   "cell_type": "markdown",
   "source": [
    "Zadanie 2.\n",
    "\n",
    "Zaimplementuj wzorzec projektowy łańcuch odpowiedzialności na przykładzie obsługi żądania _http_ (symulacja),\n",
    "w którym przed faktycznym kodem obsługi błędu ma zostać sprawdzone:\n",
    "- czy użytkownik może wysłać danego typu żądania\n",
    "- czy żądanie nie dotyczy pliku\n",
    "- czy liczba żądań na minutę nie jest przekroczona\n",
    "- czy liczba żądań na minutę nie jest przekroczona dla zalogowanego użytkownika\n",
    "- czy przesłany formularz nie jest próbą `sql incjection`\n"
   ],
   "metadata": {
    "collapsed": false,
    "pycharm": {
     "name": "#%% md\n"
    }
   }
  },
  {
   "cell_type": "code",
   "execution_count": 25,
   "outputs": [
    {
     "name": "stdout",
     "output_type": "stream",
     "text": [
      "Chain: Type > File > RPM > SQL\n",
      "URL was not handled.\n",
      "HTTP_ACCEPT was not handled.\n",
      "Użytkownik nie może wysłać żądania typu: post\n",
      "Żądanie dotyczy pliku!\n",
      "HTTP_HOST was not handled.\n",
      "HTTP_CONNECTION was not handled.\n",
      "Minute was not handled.\n",
      "Role was not handled.\n",
      "Parameters was not handled.\n",
      "HTTP_ACCEPT_ENCODING was not handled.\n",
      "\n",
      "\n"
     ]
    }
   ],
   "source": [
    "#Regex for detection SQL: \"\\'|\\\"|\\(|\\[|\\*|=| |\\\\|/|;|-\"i\n",
    "\n",
    "from __future__ import annotations\n",
    "from abc import ABC, abstractmethod\n",
    "from typing import Any, Optional\n",
    "from datetime import datetime\n",
    "\n",
    "#Klasa, której powołane obiekty będą symulować request http\n",
    "class httpSimRequest:\n",
    "    def __init__(self, Type: str, File, Role: str):\n",
    "        self.httpReq = {\n",
    "            'URL': 'https://someWebsite.com',\n",
    "            'HTTP_ACCEPT': '*/*',\n",
    "            'Type': Type,\n",
    "            'File': File,\n",
    "            'HTTP_HOST': 'MyHost',\n",
    "            'HTTP_CONNECTION': 'keep-alive',\n",
    "            'Minute': datetime.now().strftime('%M'),\n",
    "            'Role': Role,                        # Czy użytkownik jest zalogowany sprawdzam w Role -> gdy jest zalogowany to rola to LoogedUser\n",
    "            'Parameters': {\n",
    "                'Username': 'John123',\n",
    "                'Password': \"; select true; --\"  # Przykład SQL injection - nasze rozwiązanie powinno odrzucić takie dane\n",
    "            },\n",
    "            'HTTP_ACCEPT_ENCODING': ['gzip', 'deflate']\n",
    "        }\n",
    "\n",
    "\n",
    "class Handler(ABC):\n",
    "\n",
    "    @abstractmethod\n",
    "    def set_next(self, handler: Handler) -> Handler:\n",
    "        pass\n",
    "\n",
    "    @abstractmethod\n",
    "    def handle(self, request) -> Optional[str]:\n",
    "        pass\n",
    "\n",
    "\n",
    "class AbstractHandler(Handler):\n",
    "\n",
    "    _next_handler: Handler = None\n",
    "\n",
    "    def set_next(self, handler: Handler) -> Handler:\n",
    "        self._next_handler = handler\n",
    "        return handler\n",
    "\n",
    "    @abstractmethod\n",
    "    def handle(self, request: Any) -> str:\n",
    "        if self._next_handler:\n",
    "            return self._next_handler.handle(request)\n",
    "\n",
    "        return None\n",
    "\n",
    "class TypeHandler(AbstractHandler):\n",
    "    def handle(self, request: Any) -> str:\n",
    "        # Zakładamy, że użytkownik 'user' może wysłać tylko request get, loggedUser - get, head i put a admin wszystkie\n",
    "        types = ['get','head','put','post','delete','patch']\n",
    "        roles = ['admin','loggedUser','user']\n",
    "        role = None\n",
    "        if request in roles:\n",
    "            role = request\n",
    "\n",
    "        if request in types:\n",
    "            if role == roles[0]:\n",
    "                return f\"Użytkownik może wysłać żądanie typu: {request}\"\n",
    "\n",
    "            elif role == roles[1]:\n",
    "                if types.index(request) < 3:\n",
    "                    return f\"Użytkownik może wysłać żądanie typu: {request}\"\n",
    "                else:\n",
    "                    return f\"Użytkownik nie może wysłać żądania typu: {request}\"\n",
    "\n",
    "            else:\n",
    "                if types.index(request) == 0:\n",
    "                    return f\"Użytkownik może wysłać żądanie typu: {request}\"\n",
    "                else:\n",
    "                    return f\"Użytkownik nie może wysłać żądania typu: {request}\"\n",
    "\n",
    "        else:\n",
    "            return super().handle(request)\n",
    "\n",
    "\n",
    "class FileHandler(AbstractHandler):\n",
    "    def handle(self, request: Any) -> str:\n",
    "        if request == 'file':\n",
    "            return f\"Żądanie dotyczy pliku!\"\n",
    "        else:\n",
    "            return super().handle(request)\n",
    "\n",
    "\n",
    "class RequestsPerMinuteHandler(AbstractHandler):\n",
    "    def handle(self, request: Any) -> str:\n",
    "        if request == \"MeatBall\":\n",
    "            return f\"Dog: I'll eat the {request}\"\n",
    "        else:\n",
    "            return super().handle(request)\n",
    "\n",
    "class SqlInjectionHandler(AbstractHandler):\n",
    "    def handle(self, request: Any) -> str:\n",
    "        # handle sql injection (regex)\n",
    "        pass\n",
    "\n",
    "def client_code(handler: Handler, data) -> None:\n",
    "    \n",
    "    # W przypadku TypeHandler i RequestPerMinuteHandler, upewniam się, że te klasy znają \n",
    "    # wartość pola role z żądania http (będzie w nich potrzebna)\n",
    "    TypeHandler.handle(data['Role'])\n",
    "    RequestsPerMinuteHandler.handle(data['Role'])\n",
    "    \n",
    "    for i in data:\n",
    "        result = handler.handle(data[i])\n",
    "\n",
    "        if result:\n",
    "            print(f\"{result}\")\n",
    "        else:\n",
    "            print(f\"{i} was not handled.\")\n",
    "\n",
    "# Aby zasymulować otwieranie pliku string (nie jest potrzebny dodatkowy plik do testu)\n",
    "# Tak na prawdę, w tym przypadku nie ma to znaczenia, ponieważ musimy sprawdzić, czy operacja NIE odnosi się do pliku,\n",
    "# więc będziemy tylko sprawdzać czy ma jakiekolwiek pliki w requescie (has file?) -> czy w miejscu na plik jest cokolwiek\n",
    "\n",
    "request1 = httpSimRequest('post', 'file', 'user').httpReq\n",
    "\n",
    "\n",
    "Type = TypeHandler()\n",
    "File = FileHandler()\n",
    "RPM = RequestsPerMinuteHandler()\n",
    "SQL = SqlInjectionHandler()\n",
    "# monkey.set_next(squirrel).set_next(dog)\n",
    "Type.set_next(File).set_next(RPM).set_next(SQL)\n",
    "\n",
    "# The client should be able to send a request to any handler, not just the\n",
    "# first one in the chain.\n",
    "\n",
    "print(\"Chain: Type > File > RPM > SQL\")\n",
    "client_code(Type, request1)\n",
    "print(\"\\n\")\n",
    "#\n",
    "# print(\"Subchain: Squirrel > Dog\")\n",
    "# client_code(squirrel)"
   ],
   "metadata": {
    "collapsed": false,
    "pycharm": {
     "name": "#%%\n"
    }
   }
  },
  {
   "cell_type": "markdown",
   "source": [
    "Zadanie 3.\n",
    "\n",
    "Za pomocą dowolnego wzorca projektowego zaimplementuj mechanizm sprawdzający poprawność wyrażenia postaci:\n",
    "* a + b = c (poprawne),\n",
    "* (a + b = c (niepoprawne),\n",
    "* a + = c (niepoprawne)."
   ],
   "metadata": {
    "collapsed": false
   }
  },
  {
   "cell_type": "code",
   "execution_count": null,
   "outputs": [],
   "source": [],
   "metadata": {
    "collapsed": false,
    "pycharm": {
     "name": "#%%\n"
    }
   }
  }
 ],
 "metadata": {
  "kernelspec": {
   "display_name": "Python 3",
   "language": "python",
   "name": "python3"
  },
  "language_info": {
   "codemirror_mode": {
    "name": "ipython",
    "version": 2
   },
   "file_extension": ".py",
   "mimetype": "text/x-python",
   "name": "python",
   "nbconvert_exporter": "python",
   "pygments_lexer": "ipython2",
   "version": "2.7.6"
  }
 },
 "nbformat": 4,
 "nbformat_minor": 0
}