{
 "cells": [
  {
   "cell_type": "markdown",
   "source": [
    "Zadanie 1\n",
    "\n",
    "Prześledź szybkość dodawania elementów do tablicy."
   ],
   "metadata": {
    "collapsed": false,
    "pycharm": {
     "name": "#%% md\n"
    }
   }
  },
  {
   "cell_type": "code",
   "execution_count": 8,
   "outputs": [
    {
     "name": "stdout",
     "output_type": "stream",
     "text": [
      "Złożoność obliczeniowa dodawania elementów do tablicy to ok. :  2.018568926915335\n"
     ]
    }
   ],
   "source": [
    "import time\n",
    "\n",
    "def elements_addition(data_size):\n",
    "    tab = []\n",
    "\n",
    "    t1 = time.perf_counter_ns()\n",
    "    for l in range(data_size):\n",
    "        tab.append(l)\n",
    "    t2 = time.perf_counter_ns()\n",
    "\n",
    "    elapsed = t2 - t1\n",
    "    return elapsed\n",
    "\n",
    "el = 100\n",
    "mul = 2\n",
    "\n",
    "results = []\n",
    "complexities = []\n",
    "\n",
    "for i in range(20):\n",
    "    if not results:\n",
    "        results.append(elements_addition(el * mul))\n",
    "    mul *= 2\n",
    "    results.append(elements_addition(el * mul))\n",
    "    complexities.append(results[i+1]/results[i])\n",
    "\n",
    "# Obliczenie średniej złożoności obliczeniowej, biorąc pod uwagę fakt, że ilość danych była\n",
    "# zwiększana dwukrotnie:\n",
    "\n",
    "summ = 0\n",
    "for compl in complexities:\n",
    "    summ += compl\n",
    "\n",
    "avgComplexity = summ / len(complexities)\n",
    "\n",
    "\n",
    "print('Złożoność obliczeniowa dodawania elementów do tablicy to ok. : ', avgComplexity)\n",
    "\n",
    "# Zwiększając liczbę elementów zawsze razy 2, czas również zwiększa się ok. 2 razy.\n",
    "# Zauważamy że złożoność obliczeniowa dodawania elementów do listy jest liniowa O(n).\n",
    "# Sama funkcja append jest złożoności O(1).\n",
    "# Funkcja extend - tutaj zapisałem jej odpowiednik - append w forze ma złożoność liniową."
   ],
   "metadata": {
    "collapsed": false,
    "pycharm": {
     "name": "#%%\n"
    }
   }
  },
  {
   "cell_type": "markdown",
   "source": [
    "Zadanie 2\n",
    "\n",
    "Stwórz kalkulator do obliczenia aktualnej godziny w konkretnej strefie czasowej. Do zadania wystarczy utworzyć słownik z przesunięciami czasowymi z i od _UTC_."
   ],
   "metadata": {
    "collapsed": false,
    "pycharm": {
     "name": "#%% md\n"
    }
   }
  },
  {
   "cell_type": "code",
   "execution_count": 9,
   "outputs": [
    {
     "name": "stdout",
     "output_type": "stream",
     "text": [
      "Data w Polsce:  2022-07-19 21:39:35\n",
      "Data w wybranym mieście:  2022-07-19 19:39:35\n"
     ]
    }
   ],
   "source": [
    "#Zakładam, że polska znajduje się w strefie czasowej GMT+2 (Czas letni) - datetime.now zwraca czas zachodnioeuropejski\n",
    "def check_time(city):\n",
    "\n",
    "    from datetime import datetime, timedelta\n",
    "    utcs = {'London': -1, 'Reykjavik': -2, 'Praia': -3, 'Nuuk': -4,'Brasilia': -5, 'Washington DC': -6, 'Bogota': -7, 'Denver': -8,\n",
    "            'Los Angeles': -9, 'Fairbanks': -10, 'Adak': -11, 'Honolulu': -12, 'Alofi': -13, 'Baker Island': -14, 'Warsaw': 0,\n",
    "            'Kyiv': 1, 'Samara': 2, 'Islamabad': 3, 'Omsk': 4, 'Hovd': 5, 'Shanghai': 6, 'Yakutsk': 7, 'Sydney': 8, 'Honiara': 9,\n",
    "            'Wellington': 10, 'Apia': 11, 'Kiritimati': 12}\n",
    "    if city not in utcs:\n",
    "        print('Niepoprawne miasto!')\n",
    "        return -1\n",
    "    dt = datetime.now()\n",
    "    print('Data w Polsce: ', dt.strftime('%Y-%m-%d %H:%M:%S'))\n",
    "    dt_city = dt + timedelta(hours=utcs[city])\n",
    "    print('Data w wybranym mieście: ', dt_city.strftime('%Y-%m-%d %H:%M:%S'))\n",
    "\n",
    "\n",
    "check_time(input('Wybierz miasto do sprawdzenia czasu. \\nMozna wybrac jedno z miast: London, Reykjavik, Praia, Nuuk, Brasilia, Washington DC, '\n",
    "                 'Bogota, Denver, Los Angeles, Fairbanks, Adak, Honolulu, Alofi, Baker Island, Warsaw, '\n",
    "                 'Kyiv, Samara, Islamabad, Omsk, Hovd, Shanghai, Yakutsk, Sydney, Honiara, Wellington, '\n",
    "                 'Apia, Kiritimati:'))"
   ],
   "metadata": {
    "collapsed": false,
    "pycharm": {
     "name": "#%%\n"
    }
   }
  },
  {
   "cell_type": "markdown",
   "source": [
    "Zadanie 3\n",
    "\n",
    "Zmodyfikuj kod związany z losowaniem liczb z przedziału od 1 do 10, tak aby obliczał przybliżoną wartość oczekiwaną obliczoną jako średnią (z prób). Uśrednienie ma nastąpić 1m razy (milion razy)."
   ],
   "metadata": {
    "collapsed": false,
    "pycharm": {
     "name": "#%% md\n"
    }
   }
  },
  {
   "cell_type": "code",
   "execution_count": 10,
   "outputs": [
    {
     "name": "stdout",
     "output_type": "stream",
     "text": [
      "Srednia wartosc:  5.001944\n"
     ]
    }
   ],
   "source": [
    "from random import Random\n",
    "\n",
    "number = 1000000\n",
    "rand = Random()\n",
    "summ = 0\n",
    "for i in range(number):\n",
    "    summ += rand.randint(0,10)\n",
    "\n",
    "print('Srednia wartosc: ',summ/number)"
   ],
   "metadata": {
    "collapsed": false,
    "pycharm": {
     "name": "#%%\n"
    }
   }
  },
  {
   "cell_type": "markdown",
   "source": [
    "Zadanie 4\n",
    "\n",
    "Napisz algorytm obliczający kolejne liczby pierwsze dla zadanych wartości."
   ],
   "metadata": {
    "collapsed": false,
    "pycharm": {
     "name": "#%% md\n"
    }
   }
  },
  {
   "cell_type": "code",
   "execution_count": 11,
   "outputs": [
    {
     "name": "stdout",
     "output_type": "stream",
     "text": [
      "2\n",
      "3\n",
      "5\n",
      "7\n",
      "11\n",
      "13\n",
      "17\n",
      "19\n",
      "23\n",
      "29\n",
      "31\n",
      "37\n",
      "41\n",
      "43\n",
      "47\n",
      "53\n",
      "59\n",
      "61\n",
      "67\n",
      "71\n",
      "73\n",
      "79\n",
      "83\n",
      "89\n",
      "97\n"
     ]
    }
   ],
   "source": [
    "def prime_numbers(inpu):\n",
    "    if not inpu.isdigit():\n",
    "        print('Bledne dane podane!')\n",
    "        return -1\n",
    "    else:\n",
    "        n = int(inpu) #przeszukujemy przedział [2,n]\n",
    "\n",
    "    if n < 2:\n",
    "        print('Brak liczb pierwszych w podanym zakresie')\n",
    "    prime = [True]*(n+1) #tablica liczb pierwszych (na początku wszystkim przypisuję True - liczba pierwsza [indeks to liczba], będzie to zmieniane na przestrzeni działania kodu)\n",
    "    for l in range(2, n + 1):\n",
    "        if prime[l]: #True oznacza liczbę pierwszą\n",
    "            for j in range(l + l, n + 1, l):\n",
    "                prime[j] = False #zaznaczamy wielokrotności jako liczby nie pierwsze\n",
    "    for l in range(2, n + 1):\n",
    "        if prime[l]:\n",
    "            print(l)\n",
    "\n",
    "inp = input('Podaj liczbę, do której będą szukane liczby pierwsze: ')\n",
    "prime_numbers(inp)"
   ],
   "metadata": {
    "collapsed": false,
    "pycharm": {
     "name": "#%%\n"
    }
   }
  },
  {
   "cell_type": "markdown",
   "source": [
    "Zadanie 5\n",
    "\n",
    "Napisz program wyznaczający ciąg _Fibonacciego_ dla 93 elementu (lub 93 iteracji) w najszybszym możliwym czasie."
   ],
   "metadata": {
    "collapsed": false,
    "pycharm": {
     "name": "#%% md\n"
    }
   }
  },
  {
   "cell_type": "code",
   "execution_count": 12,
   "outputs": [
    {
     "name": "stdout",
     "output_type": "stream",
     "text": [
      "83621143489848422977\n"
     ]
    }
   ],
   "source": [
    "#Algorytm: fast doubling - bardzo szybki algorytm do wyznaczania wartości ciągu fibonacciego.\n",
    "def fib(l):\n",
    "    if l == 0:\n",
    "        return 0, 1\n",
    "    else:\n",
    "        a, b = fib(l // 2)\n",
    "        c = a * (b * 2 - a)\n",
    "        d = a * a + b * b\n",
    "        if l % 2 == 0:\n",
    "            return c, d\n",
    "        else:\n",
    "            return d, c + d\n",
    "\n",
    "def fibonacci(l):\n",
    "    if l < 0:\n",
    "        raise ValueError(\"Blad\")\n",
    "    return fib(l)[0]\n",
    "\n",
    "print(fibonacci(97))"
   ],
   "metadata": {
    "collapsed": false,
    "pycharm": {
     "name": "#%%\n"
    }
   }
  },
  {
   "cell_type": "markdown",
   "source": [
    "Zadanie 6\n",
    "\n",
    "Napisz program, który wyznacza odległość Levenshteina dla dwóch zadanych łańcuchów znaków."
   ],
   "metadata": {
    "collapsed": false,
    "pycharm": {
     "name": "#%% md\n"
    }
   }
  },
  {
   "cell_type": "code",
   "execution_count": 13,
   "outputs": [
    {
     "name": "stdout",
     "output_type": "stream",
     "text": [
      "0 1 2 3 4 \n",
      "1 0 1 2 3 \n",
      "2 1 0 1 2 \n",
      "3 2 1 0 1 \n"
     ]
    },
    {
     "data": {
      "text/plain": "1.0"
     },
     "execution_count": 13,
     "metadata": {},
     "output_type": "execute_result"
    }
   ],
   "source": [
    "# Pomoc\n",
    "# Budowanie tablicy należy zacząć od wpisania liczb w pierwszy wiersz (liczby od 0\n",
    "# do n) oraz wpisania liczb w pierwszą kolumnę (liczby od 0 do m). Kolejnym krokiem jest\n",
    "# porównanie kolejno znaków z pierwszego wiersza, z wartością znajdująca się w pierwszej\n",
    "# kolumnie. Znaki porównujemy w ten sposób, że jeśli są identyczne, to wartość kosztu wynosi\n",
    "# 0, jeśli natomiast znaki są różne, wartość kosztu wynosi 1. Wartość, jaką należy wpisać do\n",
    "# pustej komórki wyznaczamy szukając wartość minimalną spośród trzech wartości:\n",
    "#  - wartość komórki znajdującej się powyżej zwiększona o 1,\n",
    "#  - wartość komórki znajdującej się na lewo zwiększona o 1,\n",
    "#  - wartość komórki stykającej się z lewym górnym rogiem.\n",
    "# Następnie należy porównać znaki dla wszystkich kolumn i wierszy tak, aby każdy znak\n",
    "# z ciągu pierwszego został porównany z każdym znakiem ciągu drugiego. Liczba, która\n",
    "# znajdzie się w dolnym prawym rogu oznacza wartość odległości Levenshteina.\n",
    "\n",
    "import numpy\n",
    "\n",
    "\n",
    "def printDistances(distances, token1Length, token2Length):\n",
    "    for t1 in range(token1Length + 1):\n",
    "        for t2 in range(token2Length + 1):\n",
    "            print(int(distances[t1][t2]), end=\" \")\n",
    "        print()\n",
    "\n",
    "\n",
    "def levenshteinDistanceDP(token1, token2):\n",
    "    distances = numpy.zeros((len(token1) + 1, len(token2) + 1))\n",
    "\n",
    "    for t1 in range(len(token1) + 1):\n",
    "        distances[t1][0] = t1\n",
    "\n",
    "    for t2 in range(len(token2) + 1):\n",
    "        distances[0][t2] = t2\n",
    "\n",
    "\n",
    "    for t1 in range(1, len(token1) + 1):\n",
    "        for t2 in range(1, len(token2) + 1):\n",
    "            if token1[t1 - 1] == token2[t2 - 1]:\n",
    "                distances[t1][t2] = distances[t1 - 1][t2 - 1]\n",
    "            else:\n",
    "                a = distances[t1][t2 - 1]\n",
    "                b = distances[t1 - 1][t2]\n",
    "                c = distances[t1 - 1][t2 - 1]\n",
    "\n",
    "                if a <= b and a <= c:\n",
    "                    distances[t1][t2] = a + 1\n",
    "                elif b <= a and b <= c:\n",
    "                    distances[t1][t2] = b + 1\n",
    "                else:\n",
    "                    distances[t1][t2] = c + 1\n",
    "\n",
    "    printDistances(distances, len(token1), len(token2))\n",
    "    return distances[len(token1)][len(token2)]\n",
    "\n",
    "levenshteinDistanceDP(\"XYZ\", \"XYZZ\")"
   ],
   "metadata": {
    "collapsed": false,
    "pycharm": {
     "name": "#%%\n"
    }
   }
  }
 ],
 "metadata": {
  "kernelspec": {
   "display_name": "Python 3",
   "language": "python",
   "name": "python3"
  },
  "language_info": {
   "codemirror_mode": {
    "name": "ipython",
    "version": 2
   },
   "file_extension": ".py",
   "mimetype": "text/x-python",
   "name": "python",
   "nbconvert_exporter": "python",
   "pygments_lexer": "ipython2",
   "version": "2.7.6"
  }
 },
 "nbformat": 4,
 "nbformat_minor": 0
}